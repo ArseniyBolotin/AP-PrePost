{
 "cells": [
  {
   "cell_type": "code",
   "execution_count": 138,
   "metadata": {},
   "outputs": [],
   "source": [
    "import pandas as pd\n",
    "file = 'repetitors_1.xlsx'\n",
    "df = pd.concat(pd.read_excel(file, sheet_name=None), ignore_index=True)\n"
   ]
  },
  {
   "cell_type": "code",
   "execution_count": 139,
   "metadata": {},
   "outputs": [],
   "source": [
    "df_AP = df.drop(['Column1', 'author', 'date', 'id', 'reply', 'text', 'tutorlink', 'tutorname'], axis=1)"
   ]
  },
  {
   "cell_type": "code",
   "execution_count": 140,
   "metadata": {},
   "outputs": [],
   "source": [
    "mark_dict = {\n",
    "    'лучше не бывает!' : 10,\n",
    "    'отлично' : 9,\n",
    "    'почти отлично' : 8,\n",
    "    'вполне хорошо' : 7,\n",
    "    'хорошо' : 6,\n",
    "    'почти хорошо' : 5,\n",
    "    'более-менее' : 4,\n",
    "    'так себе...' : 3,\n",
    "    'плохо' : 2,\n",
    "    'ужасно' : 1\n",
    "}"
   ]
  },
  {
   "cell_type": "code",
   "execution_count": 141,
   "metadata": {},
   "outputs": [],
   "source": [
    "df_AP = df_AP.replace({\"mark\": mark_dict}).dropna()"
   ]
  },
  {
   "cell_type": "code",
   "execution_count": 142,
   "metadata": {},
   "outputs": [],
   "source": [
    "df_AP.mark *= 10"
   ]
  },
  {
   "cell_type": "code",
   "execution_count": 143,
   "metadata": {},
   "outputs": [],
   "source": [
    "discipline_dict = {}\n",
    "index  = 1\n",
    "for discipline in df_AP['discipline'].unique():\n",
    "    discipline_dict[discipline] = index\n",
    "    index += 1"
   ]
  },
  {
   "cell_type": "code",
   "execution_count": 144,
   "metadata": {},
   "outputs": [],
   "source": [
    "df_AP = df_AP.replace({\"discipline\": discipline_dict})"
   ]
  },
  {
   "cell_type": "code",
   "execution_count": 145,
   "metadata": {},
   "outputs": [],
   "source": [
    "from ap import AffinityPropagation\n",
    "x = df_AP.to_numpy()[::1000]\n",
    "labels = AffinityPropagation(x, 200, 0.5)"
   ]
  },
  {
   "cell_type": "code",
   "execution_count": 146,
   "metadata": {},
   "outputs": [],
   "source": [
    "def normalize_labels(labels):\n",
    "    count = 1\n",
    "    new_labels = []\n",
    "    dict_labels = {}\n",
    "    for lab in labels:\n",
    "        if lab not in dict_labels:\n",
    "            dict_labels[lab] = count\n",
    "            count += 1\n",
    "        new_labels.append(dict_labels[lab])\n",
    "    return new_labels"
   ]
  },
  {
   "cell_type": "code",
   "execution_count": 147,
   "metadata": {},
   "outputs": [
    {
     "data": {
      "image/png": "[encoded data removed]",
      "text/plain": [
       "<Figure size 432x288 with 1 Axes>"
      ]
     },
     "metadata": {
      "needs_background": "light"
     },
     "output_type": "display_data"
    }
   ],
   "source": [
    "%matplotlib inline\n",
    "import matplotlib.pyplot as plt\n",
    "plt.scatter(x[:, 0], x[:, 1], cmap='rainbow', c=normalize_labels(labels))\n",
    "plt.show()"
   ]
  },
  {
   "cell_type": "code",
   "execution_count": 148,
   "metadata": {},
   "outputs": [
    {
     "data": {
      "text/plain": [
       "array([ 49,  49,  49,  49,  49,  49,  49,  49,  49,  49,  49,  49,  49,\n",
       "       102,  49,  49,  49,  17,  49,  49,  49,  49,  49,  49,  49,  49,\n",
       "       102,  49, 102,  49,  49,  49,  49,  49,  49,  49,  49,  49,  49,\n",
       "       102,  49,  49,  17,  49,  49,  49,  49,  17,  49,  49,  49,  49,\n",
       "       102, 102,  49,  49,  49, 102,  49,  49,  49,  49,  49,  49, 102,\n",
       "       102,  49,  49,  49,  49, 102,  49,  49,  17,  49, 102,  49,  49,\n",
       "       102, 102,  49, 102,  49,  49,  49, 102, 102,  49,  49,  49,  49,\n",
       "        17,  49,  49,  49,  49,  49,  49,  49,  49,  49,  49, 102,  49,\n",
       "        49,  49,  49,  49,  49, 283, 283, 119, 119, 119, 119, 115, 119,\n",
       "       119, 119, 119, 119, 119, 119, 119, 119, 119, 119, 119, 119, 119,\n",
       "       119, 119, 119, 119, 119, 119, 119, 119, 119, 119, 119, 119, 119,\n",
       "       119, 119, 119, 119, 119, 115, 115, 115, 115, 119, 119, 119, 119,\n",
       "       119, 119, 119, 119, 119, 119, 119, 119, 119, 119, 119, 119, 119,\n",
       "       119, 119, 119, 119, 119, 119, 119, 119, 119, 119, 119, 119, 119,\n",
       "       119, 119, 119, 119, 119, 119, 119, 119, 119, 119, 119, 119, 119,\n",
       "       119, 119, 119, 119, 119, 119, 119, 119, 119, 119, 119, 119, 119,\n",
       "       119, 119, 119, 119, 119, 119, 119, 119, 119, 119, 119, 119, 119,\n",
       "       119, 119, 119, 119, 119, 119, 119, 119, 119, 119, 119, 119, 119,\n",
       "       119, 119, 119, 119, 119, 119, 115, 115, 115, 115, 119, 119, 119,\n",
       "       119, 119, 119, 119, 119, 119, 119, 119, 119, 119, 119, 119, 119,\n",
       "       119, 119, 119, 119, 119, 119, 119, 119, 119, 119, 119, 119, 119,\n",
       "       119, 119, 119, 119, 119, 119, 115, 119, 119, 283, 283, 283, 283,\n",
       "       102, 102, 102])"
      ]
     },
     "execution_count": 148,
     "metadata": {},
     "output_type": "execute_result"
    }
   ],
   "source": [
    "labels"
   ]
  },
  {
   "cell_type": "code",
   "execution_count": 149,
   "metadata": {},
   "outputs": [],
   "source": [
    "df_extra = df.drop(['Column1', 'author', 'date', 'id', 'reply', 'tutorlink', 'tutorname'], axis=1).dropna()"
   ]
  },
  {
   "cell_type": "code",
   "execution_count": 150,
   "metadata": {},
   "outputs": [],
   "source": [
    "import re\n",
    "\n",
    "EGE = [0 for i in range(df_extra.shape[0])]\n",
    "OGE = [0 for i in range(df_extra.shape[0])]\n",
    "\n",
    "index = -1\n",
    "for _, row in df_extra.iterrows():\n",
    "    index += 1\n",
    "    for word in re.split('[ .,!?]', row.text):\n",
    "        word_to_check = word.strip(' .,!?').lower()\n",
    "        if word_to_check == 'егэ':\n",
    "            EGE[index] = 1\n",
    "        if word_to_check == 'огэ':\n",
    "            OGE[index] = 1"
   ]
  },
  {
   "cell_type": "code",
   "execution_count": 151,
   "metadata": {},
   "outputs": [],
   "source": [
    "df_extra[\"OGE\"] = OGE\n",
    "df_extra[\"EGE\"] = EGE"
   ]
  },
  {
   "cell_type": "code",
   "execution_count": 152,
   "metadata": {},
   "outputs": [],
   "source": [
    "df_extra.OGE *= 100\n",
    "df_extra.EGE *= 100"
   ]
  },
  {
   "cell_type": "code",
   "execution_count": 153,
   "metadata": {},
   "outputs": [],
   "source": [
    "df_extra = df_extra.replace({\"discipline\": discipline_dict})\n",
    "df_extra = df_extra.replace({\"mark\": mark_dict})\n",
    "df_extra.mark *= 10"
   ]
  },
  {
   "cell_type": "code",
   "execution_count": 156,
   "metadata": {},
   "outputs": [],
   "source": [
    "df_extra = df_extra.drop(['text'], axis=1)"
   ]
  },
  {
   "cell_type": "code",
   "execution_count": 161,
   "metadata": {
    "scrolled": true
   },
   "outputs": [
    {
     "data": {
      "text/plain": [
       "array([2863,    1,    2, ..., 1095, 1095, 2863])"
      ]
     },
     "execution_count": 161,
     "metadata": {},
     "output_type": "execute_result"
    }
   ],
   "source": [
    "x = df_extra.to_numpy()[::100]\n",
    "labels = AffinityPropagation(x, 200, 0.5)\n",
    "labels"
   ]
  },
  {
   "cell_type": "code",
   "execution_count": 174,
   "metadata": {},
   "outputs": [],
   "source": [
    "file_res = \"AffinityPropagationRepetitorsResults.csv\""
   ]
  },
  {
   "cell_type": "code",
   "execution_count": 206,
   "metadata": {},
   "outputs": [],
   "source": [
    "df_res = df[df['mark'].notna() & df['discipline'].notna() & df['text'].notna()][::100]"
   ]
  },
  {
   "cell_type": "code",
   "execution_count": 208,
   "metadata": {},
   "outputs": [],
   "source": [
    "df_res[\"labels\"] = labels"
   ]
  },
  {
   "cell_type": "code",
   "execution_count": 209,
   "metadata": {},
   "outputs": [
    {
     "data": {
      "text/html": [
       "<div>\n",
       "<style scoped>\n",
       "    .dataframe tbody tr th:only-of-type {\n",
       "        vertical-align: middle;\n",
       "    }\n",
       "\n",
       "    .dataframe tbody tr th {\n",
       "        vertical-align: top;\n",
       "    }\n",
       "\n",
       "    .dataframe thead th {\n",
       "        text-align: right;\n",
       "    }\n",
       "</style>\n",
       "<table border=\"1\" class=\"dataframe\">\n",
       "  <thead>\n",
       "    <tr style=\"text-align: right;\">\n",
       "      <th></th>\n",
       "      <th>Column1</th>\n",
       "      <th>author</th>\n",
       "      <th>date</th>\n",
       "      <th>discipline</th>\n",
       "      <th>id</th>\n",
       "      <th>mark</th>\n",
       "      <th>reply</th>\n",
       "      <th>text</th>\n",
       "      <th>tutorlink</th>\n",
       "      <th>tutorname</th>\n",
       "      <th>labels</th>\n",
       "    </tr>\n",
       "  </thead>\n",
       "  <tbody>\n",
       "    <tr>\n",
       "      <td>0</td>\n",
       "      <td>0.0</td>\n",
       "      <td>Юлия</td>\n",
       "      <td>2019-07-03</td>\n",
       "      <td>биология</td>\n",
       "      <td>3913905.0</td>\n",
       "      <td>лучше не бывает!</td>\n",
       "      <td>NaN</td>\n",
       "      <td>Очень грамотный и приятный преподаватель ) оче...</td>\n",
       "      <td>https://repetitors.info/repetitor/?p=SuhorukovaNA</td>\n",
       "      <td>Сухорукова Наталия Альбертовна</td>\n",
       "      <td>2863</td>\n",
       "    </tr>\n",
       "    <tr>\n",
       "      <td>100</td>\n",
       "      <td>100.0</td>\n",
       "      <td>Светлана</td>\n",
       "      <td>2019-07-03</td>\n",
       "      <td>литература</td>\n",
       "      <td>3913204.0</td>\n",
       "      <td>лучше не бывает!</td>\n",
       "      <td>NaN</td>\n",
       "      <td>Великолепный преподаватель. Дочь с удовольстви...</td>\n",
       "      <td>https://repetitors.info/repetitor/?p=LobyntsevaEV</td>\n",
       "      <td>Лобынцева Елена Викторовна</td>\n",
       "      <td>1</td>\n",
       "    </tr>\n",
       "    <tr>\n",
       "      <td>201</td>\n",
       "      <td>201.0</td>\n",
       "      <td>Ирина</td>\n",
       "      <td>2019-07-03</td>\n",
       "      <td>английский язык</td>\n",
       "      <td>3912435.0</td>\n",
       "      <td>лучше не бывает!</td>\n",
       "      <td>NaN</td>\n",
       "      <td>Плюсы: Преподаватель высокого уровня. Грамотно...</td>\n",
       "      <td>https://repetitors.info/repetitor/?p=Tsygankov...</td>\n",
       "      <td>Цыганкова Наталия Андреевна</td>\n",
       "      <td>2</td>\n",
       "    </tr>\n",
       "    <tr>\n",
       "      <td>302</td>\n",
       "      <td>302.0</td>\n",
       "      <td>Нина Юрьевна</td>\n",
       "      <td>2019-07-03</td>\n",
       "      <td>русский язык</td>\n",
       "      <td>3911752.0</td>\n",
       "      <td>лучше не бывает!</td>\n",
       "      <td>NaN</td>\n",
       "      <td>Мария Викторовна отличный репетитор. Занималис...</td>\n",
       "      <td>https://repetitors.info/repetitor/?p=DoroninaMV</td>\n",
       "      <td>Доронина Мария Викторовна</td>\n",
       "      <td>2864</td>\n",
       "    </tr>\n",
       "    <tr>\n",
       "      <td>403</td>\n",
       "      <td>403.0</td>\n",
       "      <td>Анастасия</td>\n",
       "      <td>2019-07-03</td>\n",
       "      <td>английский язык</td>\n",
       "      <td>3911176.0</td>\n",
       "      <td>лучше не бывает!</td>\n",
       "      <td>NaN</td>\n",
       "      <td>2 года готовилась к ЕГЭ много перепробовала ре...</td>\n",
       "      <td>https://repetitors.info/repetitor/?p=HarlamovaEA6</td>\n",
       "      <td>Харламова Елена Алексеевна</td>\n",
       "      <td>4</td>\n",
       "    </tr>\n",
       "    <tr>\n",
       "      <td>...</td>\n",
       "      <td>...</td>\n",
       "      <td>...</td>\n",
       "      <td>...</td>\n",
       "      <td>...</td>\n",
       "      <td>...</td>\n",
       "      <td>...</td>\n",
       "      <td>...</td>\n",
       "      <td>...</td>\n",
       "      <td>...</td>\n",
       "      <td>...</td>\n",
       "      <td>...</td>\n",
       "    </tr>\n",
       "    <tr>\n",
       "      <td>288226</td>\n",
       "      <td>2553.0</td>\n",
       "      <td>Татьяна (отзыв зафиксирован со слов клиента по...</td>\n",
       "      <td>2014-08-18</td>\n",
       "      <td>английский язык</td>\n",
       "      <td>254895.0</td>\n",
       "      <td>почти отлично</td>\n",
       "      <td>NaN</td>\n",
       "      <td>Специалист полностью устраивал моего сына, они...</td>\n",
       "      <td>https://repetitors.info/repetitor/?p=MillerHill</td>\n",
       "      <td>Hill Miller</td>\n",
       "      <td>1095</td>\n",
       "    </tr>\n",
       "    <tr>\n",
       "      <td>288326</td>\n",
       "      <td>2653.0</td>\n",
       "      <td>Скрипко Ирина (отзыв зафиксирован со слов клие...</td>\n",
       "      <td>2014-07-31</td>\n",
       "      <td>химия</td>\n",
       "      <td>242544.0</td>\n",
       "      <td>почти отлично</td>\n",
       "      <td>NaN</td>\n",
       "      <td>Андрей приехал к нам только один раз, а потом ...</td>\n",
       "      <td>https://repetitors.info/repetitor/?p=FedoseevAN</td>\n",
       "      <td>Федосеев Андрей Николаевич</td>\n",
       "      <td>1095</td>\n",
       "    </tr>\n",
       "    <tr>\n",
       "      <td>288426</td>\n",
       "      <td>2753.0</td>\n",
       "      <td>Анна Пугаченко (отзыв зафиксирован со слов кли...</td>\n",
       "      <td>2014-06-30</td>\n",
       "      <td>испанский язык</td>\n",
       "      <td>165096.0</td>\n",
       "      <td>почти отлично</td>\n",
       "      <td>NaN</td>\n",
       "      <td>Алина Александровна - пунктуальная, общительна...</td>\n",
       "      <td>https://repetitors.info/repetitor/?p=ZhigarevaAA</td>\n",
       "      <td>Жигарева Алина Александровна</td>\n",
       "      <td>1095</td>\n",
       "    </tr>\n",
       "    <tr>\n",
       "      <td>288526</td>\n",
       "      <td>2853.0</td>\n",
       "      <td>Елена (отзыв зафиксирован со слов клиента по т...</td>\n",
       "      <td>2014-04-17</td>\n",
       "      <td>начальная школа</td>\n",
       "      <td>116789.0</td>\n",
       "      <td>почти отлично</td>\n",
       "      <td>NaN</td>\n",
       "      <td>Пусть прозанимались с этим репетитором недолго...</td>\n",
       "      <td>https://repetitors.info/repetitor/?p=LalaevaSI</td>\n",
       "      <td>Лалаева Снежана Игоревна</td>\n",
       "      <td>1095</td>\n",
       "    </tr>\n",
       "    <tr>\n",
       "      <td>288626</td>\n",
       "      <td>2953.0</td>\n",
       "      <td>Наталия</td>\n",
       "      <td>2012-06-29</td>\n",
       "      <td>история</td>\n",
       "      <td>44209.0</td>\n",
       "      <td>почти отлично</td>\n",
       "      <td>NaN</td>\n",
       "      <td>Мария готовила моего ребенка к ЕГЭ по общество...</td>\n",
       "      <td>https://repetitors.info/repetitor/?p=Kovalevsk...</td>\n",
       "      <td>Ковалевская Мария Александровна</td>\n",
       "      <td>2863</td>\n",
       "    </tr>\n",
       "  </tbody>\n",
       "</table>\n",
       "<p>2887 rows × 11 columns</p>\n",
       "</div>"
      ],
      "text/plain": [
       "        Column1                                             author       date  \\\n",
       "0           0.0                                               Юлия 2019-07-03   \n",
       "100       100.0                                           Светлана 2019-07-03   \n",
       "201       201.0                                              Ирина 2019-07-03   \n",
       "302       302.0                                       Нина Юрьевна 2019-07-03   \n",
       "403       403.0                                          Анастасия 2019-07-03   \n",
       "...         ...                                                ...        ...   \n",
       "288226   2553.0  Татьяна (отзыв зафиксирован со слов клиента по... 2014-08-18   \n",
       "288326   2653.0  Скрипко Ирина (отзыв зафиксирован со слов клие... 2014-07-31   \n",
       "288426   2753.0  Анна Пугаченко (отзыв зафиксирован со слов кли... 2014-06-30   \n",
       "288526   2853.0  Елена (отзыв зафиксирован со слов клиента по т... 2014-04-17   \n",
       "288626   2953.0                                            Наталия 2012-06-29   \n",
       "\n",
       "             discipline         id              mark reply  \\\n",
       "0              биология  3913905.0  лучше не бывает!   NaN   \n",
       "100          литература  3913204.0  лучше не бывает!   NaN   \n",
       "201     английский язык  3912435.0  лучше не бывает!   NaN   \n",
       "302        русский язык  3911752.0  лучше не бывает!   NaN   \n",
       "403     английский язык  3911176.0  лучше не бывает!   NaN   \n",
       "...                 ...        ...               ...   ...   \n",
       "288226  английский язык   254895.0     почти отлично   NaN   \n",
       "288326            химия   242544.0     почти отлично   NaN   \n",
       "288426   испанский язык   165096.0     почти отлично   NaN   \n",
       "288526  начальная школа   116789.0     почти отлично   NaN   \n",
       "288626          история    44209.0     почти отлично   NaN   \n",
       "\n",
       "                                                     text  \\\n",
       "0       Очень грамотный и приятный преподаватель ) оче...   \n",
       "100     Великолепный преподаватель. Дочь с удовольстви...   \n",
       "201     Плюсы: Преподаватель высокого уровня. Грамотно...   \n",
       "302     Мария Викторовна отличный репетитор. Занималис...   \n",
       "403     2 года готовилась к ЕГЭ много перепробовала ре...   \n",
       "...                                                   ...   \n",
       "288226  Специалист полностью устраивал моего сына, они...   \n",
       "288326  Андрей приехал к нам только один раз, а потом ...   \n",
       "288426  Алина Александровна - пунктуальная, общительна...   \n",
       "288526  Пусть прозанимались с этим репетитором недолго...   \n",
       "288626  Мария готовила моего ребенка к ЕГЭ по общество...   \n",
       "\n",
       "                                                tutorlink  \\\n",
       "0       https://repetitors.info/repetitor/?p=SuhorukovaNA   \n",
       "100     https://repetitors.info/repetitor/?p=LobyntsevaEV   \n",
       "201     https://repetitors.info/repetitor/?p=Tsygankov...   \n",
       "302       https://repetitors.info/repetitor/?p=DoroninaMV   \n",
       "403     https://repetitors.info/repetitor/?p=HarlamovaEA6   \n",
       "...                                                   ...   \n",
       "288226    https://repetitors.info/repetitor/?p=MillerHill   \n",
       "288326    https://repetitors.info/repetitor/?p=FedoseevAN   \n",
       "288426   https://repetitors.info/repetitor/?p=ZhigarevaAA   \n",
       "288526     https://repetitors.info/repetitor/?p=LalaevaSI   \n",
       "288626  https://repetitors.info/repetitor/?p=Kovalevsk...   \n",
       "\n",
       "                              tutorname  labels  \n",
       "0        Сухорукова Наталия Альбертовна    2863  \n",
       "100          Лобынцева Елена Викторовна       1  \n",
       "201         Цыганкова Наталия Андреевна       2  \n",
       "302           Доронина Мария Викторовна    2864  \n",
       "403          Харламова Елена Алексеевна       4  \n",
       "...                                 ...     ...  \n",
       "288226                      Hill Miller    1095  \n",
       "288326       Федосеев Андрей Николаевич    1095  \n",
       "288426     Жигарева Алина Александровна    1095  \n",
       "288526         Лалаева Снежана Игоревна    1095  \n",
       "288626  Ковалевская Мария Александровна    2863  \n",
       "\n",
       "[2887 rows x 11 columns]"
      ]
     },
     "execution_count": 209,
     "metadata": {},
     "output_type": "execute_result"
    }
   ],
   "source": [
    "df_res"
   ]
  },
  {
   "cell_type": "code",
   "execution_count": 210,
   "metadata": {},
   "outputs": [],
   "source": [
    "df_res.to_csv(file_res)"
   ]
  }
 ],
 "metadata": {
  "kernelspec": {
   "display_name": "Python 3",
   "language": "python",
   "name": "python3"
  },
  "language_info": {
   "codemirror_mode": {
    "name": "ipython",
    "version": 3
   },
   "file_extension": ".py",
   "mimetype": "text/x-python",
   "name": "python",
   "nbconvert_exporter": "python",
   "pygments_lexer": "ipython3",
   "version": "3.7.4"
  }
 },
 "nbformat": 4,
 "nbformat_minor": 2
}
