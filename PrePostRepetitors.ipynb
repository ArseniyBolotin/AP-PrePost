{
 "cells": [
  {
   "cell_type": "code",
   "execution_count": 7,
   "metadata": {},
   "outputs": [],
   "source": [
    "import pandas as pd\n",
    "import xlrd\n",
    "from prepost import PrePost\n",
    "\n",
    "file = 'repetitors_1.xlsx'\n",
    "df = pd.concat(pd.read_excel(file, sheet_name=None), ignore_index=True)\n",
    "\n",
    "df_prepost = df.drop(\n",
    "    ['Column1', 'author', 'date', 'id', 'reply', 'tutorlink'], axis=1)"
   ]
  },
  {
   "cell_type": "code",
   "execution_count": 8,
   "metadata": {},
   "outputs": [],
   "source": [
    "df_prepost = df_prepost.dropna()"
   ]
  },
  {
   "cell_type": "code",
   "execution_count": 9,
   "metadata": {},
   "outputs": [],
   "source": [
    "import re\n",
    "\n",
    "data = []\n",
    "ignore = [\n",
    "    \n",
    "          'и', \"по\", \"на\", \"в\", \"с\", \"что\", '', 'к', \n",
    "          \"мы\", \"у\", \"но\", \"как\", \"-\", \"а\", \"очень\", \n",
    "          \"не\", \"все\", \"это\", \"за\", \"я\", \"она\", \"он\",\n",
    "          \"было\", \"нам\", \"нас\", \"бы\", \"был\", \"были\", \"ней\"  \n",
    "          \n",
    "         ]\n",
    "for index, row in df_prepost.iterrows():\n",
    "    cur = [row.discipline, row.mark, row.tutorname]\n",
    "    for word in re.split('[ .,!?]', row.text):\n",
    "        word_to_add = word.strip(' .,!?').lower()\n",
    "        if word_to_add not in ignore:\n",
    "            cur.append(word_to_add)\n",
    "    data.append(cur)"
   ]
  },
  {
   "cell_type": "code",
   "execution_count": 18,
   "metadata": {},
   "outputs": [
    {
     "data": {
      "text/plain": [
       "[('ужасно',),\n",
       " ('преподаватель',),\n",
       " ('занятия',),\n",
       " ('математика',),\n",
       " ('огэ',),\n",
       " ('отлично',),\n",
       " ('репетитор',),\n",
       " ('лучше не бывает!',),\n",
       " ('заниматься',),\n",
       " ('занятий',),\n",
       " ('егэ',),\n",
       " ('5',),\n",
       " ('хорошо',),\n",
       " ('педагог',),\n",
       " ('только',),\n",
       " ('просто',),\n",
       " ('результат',),\n",
       " ('спасибо',),\n",
       " ('материал',),\n",
       " ('довольны',),\n",
       " ('то',),\n",
       " ('человек',),\n",
       " ('русский язык',),\n",
       " ('хороший',),\n",
       " ('рекомендую',),\n",
       " ('всегда',),\n",
       " ('если',),\n",
       " ('физика',),\n",
       " ('ребенок',),\n",
       " ('оценка',),\n",
       " ('так',),\n",
       " ('понятно',),\n",
       " ('для',),\n",
       " ('мне',),\n",
       " ('до',),\n",
       " ('ужасно', 'преподаватель'),\n",
       " ('ужасно', 'занятия'),\n",
       " ('ужасно', 'математика'),\n",
       " ('ужасно', 'огэ'),\n",
       " ('ужасно', 'репетитор'),\n",
       " ('ужасно', 'заниматься'),\n",
       " ('ужасно', 'занятий'),\n",
       " ('ужасно', 'егэ'),\n",
       " ('ужасно', '5'),\n",
       " ('ужасно', 'только'),\n",
       " ('ужасно', 'просто'),\n",
       " ('преподаватель', 'преподаватель'),\n",
       " ('преподаватель', 'занятия'),\n",
       " ('преподаватель', 'заниматься'),\n",
       " ('преподаватель', 'довольны'),\n",
       " ('преподаватель', 'если'),\n",
       " ('преподаватель', 'ребенок'),\n",
       " ('занятия', 'огэ'),\n",
       " ('занятия', 'просто'),\n",
       " ('математика', 'огэ'),\n",
       " ('огэ', '5'),\n",
       " ('ужасно', 'математика', 'огэ')]"
      ]
     },
     "execution_count": 18,
     "metadata": {},
     "output_type": "execute_result"
    }
   ],
   "source": [
    "PrePost(to_prepost, 0.1)"
   ]
  },
  {
   "cell_type": "code",
   "execution_count": null,
   "metadata": {},
   "outputs": [],
   "source": []
  }
 ],
 "metadata": {
  "kernelspec": {
   "display_name": "Python 3",
   "language": "python",
   "name": "python3"
  },
  "language_info": {
   "codemirror_mode": {
    "name": "ipython",
    "version": 3
   },
   "file_extension": ".py",
   "mimetype": "text/x-python",
   "name": "python",
   "nbconvert_exporter": "python",
   "pygments_lexer": "ipython3",
   "version": "3.7.4"
  }
 },
 "nbformat": 4,
 "nbformat_minor": 2
}
